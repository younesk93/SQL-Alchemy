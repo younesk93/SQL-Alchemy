{
 "cells": [
  {
   "cell_type": "code",
   "execution_count": 1,
   "metadata": {},
   "outputs": [],
   "source": [
    "#%Matplotlib notebook\n",
    "%matplotlib inline\n",
    "\n",
    "#Import dependencies\n",
    "import pandas as pd\n",
    "import matplotlib.pyplot as plt\n",
    "import numpy as np\n",
    "import datetime as dt\n",
    "\n",
    "from matplotlib import style\n",
    "style.use('fivethirtyeight')"
   ]
  },
  {
   "cell_type": "code",
   "execution_count": 2,
   "metadata": {},
   "outputs": [],
   "source": [
    "# Import SQLAlchemy\n",
    "import sqlalchemy\n",
    "from sqlalchemy.ext.automap import automap_base\n",
    "from sqlalchemy.orm import Session\n",
    "from sqlalchemy import create_engine, func"
   ]
  },
  {
   "cell_type": "code",
   "execution_count": 3,
   "metadata": {},
   "outputs": [
    {
     "data": {
      "text/plain": [
       "'/Users/Younes/Desktop/SurfUp'"
      ]
     },
     "execution_count": 3,
     "metadata": {},
     "output_type": "execute_result"
    }
   ],
   "source": [
    "# Find current working directory\n",
    "import os\n",
    "current_path = os.getcwd()\n",
    "current_path"
   ]
  },
  {
   "cell_type": "code",
   "execution_count": 4,
   "metadata": {},
   "outputs": [],
   "source": [
    "#Set engine \n",
    "engine = create_engine(\"sqlite:///Hawaii.sqlite\")\n",
    "\n",
    "#Establish connection\n",
    "conn = engine.connect()"
   ]
  },
  {
   "cell_type": "code",
   "execution_count": 5,
   "metadata": {},
   "outputs": [],
   "source": [
    "#Reflect database\n",
    "Base = automap_base()\n",
    "\n",
    "#Reflect tables\n",
    "Base.prepare(engine, reflect=True)"
   ]
  },
  {
   "cell_type": "code",
   "execution_count": 6,
   "metadata": {},
   "outputs": [],
   "source": [
    "# Create  tables within the database\n",
    "Base.metadata.create_all(conn)"
   ]
  },
  {
   "cell_type": "code",
   "execution_count": 7,
   "metadata": {},
   "outputs": [],
   "source": [
    "# To push the objects made and query the server we use a Session object\n",
    "from sqlalchemy.orm import Session\n",
    "session = Session(bind=engine)"
   ]
  },
  {
   "cell_type": "code",
   "execution_count": 8,
   "metadata": {},
   "outputs": [],
   "source": [
    "#Show table names\n",
    "Base.classes.keys()\n",
    "\n",
    "#Save both table\n",
    "Measurement = Base.classes.measurement\n",
    "Station = Base.classes.station\n",
    "\n",
    "#Create session \n",
    "session = Session(engine)"
   ]
  },
  {
   "cell_type": "code",
   "execution_count": 9,
   "metadata": {},
   "outputs": [
    {
     "data": {
      "text/html": [
       "<div>\n",
       "<style scoped>\n",
       "    .dataframe tbody tr th:only-of-type {\n",
       "        vertical-align: middle;\n",
       "    }\n",
       "\n",
       "    .dataframe tbody tr th {\n",
       "        vertical-align: top;\n",
       "    }\n",
       "\n",
       "    .dataframe thead th {\n",
       "        text-align: right;\n",
       "    }\n",
       "</style>\n",
       "<table border=\"1\" class=\"dataframe\">\n",
       "  <thead>\n",
       "    <tr style=\"text-align: right;\">\n",
       "      <th></th>\n",
       "      <th>date</th>\n",
       "      <th>prcp</th>\n",
       "    </tr>\n",
       "  </thead>\n",
       "  <tbody>\n",
       "    <tr>\n",
       "      <th>0</th>\n",
       "      <td>2016-08-24</td>\n",
       "      <td>0.08</td>\n",
       "    </tr>\n",
       "    <tr>\n",
       "      <th>1</th>\n",
       "      <td>2016-08-24</td>\n",
       "      <td>2.15</td>\n",
       "    </tr>\n",
       "    <tr>\n",
       "      <th>2</th>\n",
       "      <td>2016-08-24</td>\n",
       "      <td>2.28</td>\n",
       "    </tr>\n",
       "    <tr>\n",
       "      <th>3</th>\n",
       "      <td>2016-08-24</td>\n",
       "      <td>NaN</td>\n",
       "    </tr>\n",
       "    <tr>\n",
       "      <th>4</th>\n",
       "      <td>2016-08-24</td>\n",
       "      <td>1.22</td>\n",
       "    </tr>\n",
       "  </tbody>\n",
       "</table>\n",
       "</div>"
      ],
      "text/plain": [
       "         date  prcp\n",
       "0  2016-08-24  0.08\n",
       "1  2016-08-24  2.15\n",
       "2  2016-08-24  2.28\n",
       "3  2016-08-24   NaN\n",
       "4  2016-08-24  1.22"
      ]
     },
     "execution_count": 9,
     "metadata": {},
     "output_type": "execute_result"
    }
   ],
   "source": [
    "#query for dates and find latest\n",
    "latestDate = (session.query(Measurement.date)\n",
    "                     .order_by(Measurement.date.desc())\n",
    "                     .first())\n",
    "\n",
    "#extract string from query object\n",
    "latestDate = list(np.ravel(latestDate))[0]\n",
    "#convert date string to datetime object\n",
    "latestDate = dt.datetime.strptime(latestDate, '%Y-%m-%d')\n",
    "\n",
    "#extract year, month, and day as integers\n",
    "latestYear = int(dt.datetime.strftime(latestDate, '%Y'))\n",
    "latestMonth = int(dt.datetime.strftime(latestDate, '%m'))\n",
    "latestDay = int(dt.datetime.strftime(latestDate, '%d'))\n",
    "\n",
    "#calculate one year before latest date\n",
    "yearBefore = dt.date(latestYear, latestMonth, latestDay) - dt.timedelta(days=365)\n",
    "\n",
    "#query for dates and precipitation for the latest year\n",
    "Rain_Data = (session.query(Measurement.date, Measurement.prcp)\n",
    "                  .filter(Measurement.date > yearBefore)\n",
    "                  .order_by(Measurement.date)\n",
    "                  .all())\n",
    "\n",
    "#convert query object to data frame and set index\n",
    "\n",
    "Rain_Table = pd.DataFrame(Rain_Data)\n",
    "Rain_Table.head()"
   ]
  },
  {
   "cell_type": "code",
   "execution_count": 10,
   "metadata": {},
   "outputs": [
    {
     "data": {
      "image/png": "[encoded data removed]",
      "text/plain": [
       "<Figure size 432x288 with 1 Axes>"
      ]
     },
     "metadata": {
      "needs_background": "light"
     },
     "output_type": "display_data"
    }
   ],
   "source": [
    "#sort by date\n",
    "Sort_RainTable = Rain_Table.sort_index(ascending=True)\n",
    "\n",
    "#Plot graph\n",
    "Sort_RainTable.plot()\n",
    "plt.title(\"Precipitation\")\n",
    "plt.xlabel(\"Date\")\n",
    "\n",
    "#Save png\n",
    "plt.savefig('Precipitation.png')"
   ]
  },
  {
   "cell_type": "code",
   "execution_count": 11,
   "metadata": {},
   "outputs": [
    {
     "name": "stdout",
     "output_type": "stream",
     "text": [
      "Station Count:  9\n"
     ]
    }
   ],
   "source": [
    "# Count Stations:\n",
    "\n",
    "StationCount = session.query(Station).count()\n",
    "print(\"Station Count: \", StationCount)"
   ]
  },
  {
   "cell_type": "code",
   "execution_count": 24,
   "metadata": {},
   "outputs": [
    {
     "data": {
      "text/html": [
       "<div>\n",
       "<style scoped>\n",
       "    .dataframe tbody tr th:only-of-type {\n",
       "        vertical-align: middle;\n",
       "    }\n",
       "\n",
       "    .dataframe tbody tr th {\n",
       "        vertical-align: top;\n",
       "    }\n",
       "\n",
       "    .dataframe thead th {\n",
       "        text-align: right;\n",
       "    }\n",
       "</style>\n",
       "<table border=\"1\" class=\"dataframe\">\n",
       "  <thead>\n",
       "    <tr style=\"text-align: right;\">\n",
       "      <th></th>\n",
       "      <th>station</th>\n",
       "    </tr>\n",
       "  </thead>\n",
       "  <tbody>\n",
       "    <tr>\n",
       "      <th>0</th>\n",
       "      <td>USC00519281</td>\n",
       "    </tr>\n",
       "    <tr>\n",
       "      <th>1</th>\n",
       "      <td>USC00519397</td>\n",
       "    </tr>\n",
       "    <tr>\n",
       "      <th>2</th>\n",
       "      <td>USC00513117</td>\n",
       "    </tr>\n",
       "    <tr>\n",
       "      <th>3</th>\n",
       "      <td>USC00519523</td>\n",
       "    </tr>\n",
       "    <tr>\n",
       "      <th>4</th>\n",
       "      <td>USC00516128</td>\n",
       "    </tr>\n",
       "    <tr>\n",
       "      <th>5</th>\n",
       "      <td>USC00514830</td>\n",
       "    </tr>\n",
       "    <tr>\n",
       "      <th>6</th>\n",
       "      <td>USC00511918</td>\n",
       "    </tr>\n",
       "    <tr>\n",
       "      <th>7</th>\n",
       "      <td>USC00517948</td>\n",
       "    </tr>\n",
       "    <tr>\n",
       "      <th>8</th>\n",
       "      <td>USC00518838</td>\n",
       "    </tr>\n",
       "  </tbody>\n",
       "</table>\n",
       "</div>"
      ],
      "text/plain": [
       "       station\n",
       "0  USC00519281\n",
       "1  USC00519397\n",
       "2  USC00513117\n",
       "3  USC00519523\n",
       "4  USC00516128\n",
       "5  USC00514830\n",
       "6  USC00511918\n",
       "7  USC00517948\n",
       "8  USC00518838"
      ]
     },
     "execution_count": 24,
     "metadata": {},
     "output_type": "execute_result"
    }
   ],
   "source": [
    "# # Most active stations:\n",
    "\n",
    "StationCount = (session.query(Measurement.station)\n",
    "                       .group_by(Measurement.station)\n",
    "                       .order_by(func.count(Measurement.station).desc())\n",
    "                       .all())\n",
    "\n",
    "StationCount = pd.DataFrame(StationCount)\n",
    "StationCount"
   ]
  },
  {
   "cell_type": "code",
   "execution_count": 27,
   "metadata": {},
   "outputs": [
    {
     "data": {
      "text/html": [
       "<div>\n",
       "<style scoped>\n",
       "    .dataframe tbody tr th:only-of-type {\n",
       "        vertical-align: middle;\n",
       "    }\n",
       "\n",
       "    .dataframe tbody tr th {\n",
       "        vertical-align: top;\n",
       "    }\n",
       "\n",
       "    .dataframe thead th {\n",
       "        text-align: right;\n",
       "    }\n",
       "</style>\n",
       "<table border=\"1\" class=\"dataframe\">\n",
       "  <thead>\n",
       "    <tr style=\"text-align: right;\">\n",
       "      <th></th>\n",
       "      <th>date</th>\n",
       "      <th>tobs</th>\n",
       "    </tr>\n",
       "  </thead>\n",
       "  <tbody>\n",
       "    <tr>\n",
       "      <th>0</th>\n",
       "      <td>2016-08-24</td>\n",
       "      <td>77.0</td>\n",
       "    </tr>\n",
       "    <tr>\n",
       "      <th>1</th>\n",
       "      <td>2016-08-25</td>\n",
       "      <td>80.0</td>\n",
       "    </tr>\n",
       "    <tr>\n",
       "      <th>2</th>\n",
       "      <td>2016-08-26</td>\n",
       "      <td>80.0</td>\n",
       "    </tr>\n",
       "    <tr>\n",
       "      <th>3</th>\n",
       "      <td>2016-08-27</td>\n",
       "      <td>75.0</td>\n",
       "    </tr>\n",
       "    <tr>\n",
       "      <th>4</th>\n",
       "      <td>2016-08-28</td>\n",
       "      <td>73.0</td>\n",
       "    </tr>\n",
       "  </tbody>\n",
       "</table>\n",
       "</div>"
      ],
      "text/plain": [
       "         date  tobs\n",
       "0  2016-08-24  77.0\n",
       "1  2016-08-25  80.0\n",
       "2  2016-08-26  80.0\n",
       "3  2016-08-27  75.0\n",
       "4  2016-08-28  73.0"
      ]
     },
     "execution_count": 27,
     "metadata": {},
     "output_type": "execute_result"
    }
   ],
   "source": [
    "#Last 12 months tobs\n",
    "\n",
    "Temp_Data = (session.query(Measurement.date, Measurement.tobs)\n",
    "                    .filter(Measurement.date > yearBefore)\n",
    "                    .filter(Measurement.station == stationID)\n",
    "                    .order_by(Measurement.date)\n",
    "                    .all())\n",
    "\n",
    "Temp_Data = pd.DataFrame(Temp_Data)\n",
    "Temp_Data.head()"
   ]
  },
  {
   "cell_type": "code",
   "execution_count": 29,
   "metadata": {},
   "outputs": [
    {
     "data": {
      "image/png": "[encoded data removed]",
      "text/plain": [
       "<Figure size 432x288 with 1 Axes>"
      ]
     },
     "metadata": {
      "needs_background": "light"
     },
     "output_type": "display_data"
    }
   ],
   "source": [
    "#Plot graph\n",
    "\n",
    "Temp_Data.plot(kind='hist', bins=12)\n",
    "plt.title(\"Highest number of observations\")\n",
    "plt.ylabel(\"frequency\")\n",
    "\n",
    "#Save png\n",
    "\n",
    "plt.savefig('Temp_Data.png')"
   ]
  },
  {
   "cell_type": "code",
   "execution_count": 1,
   "metadata": {},
   "outputs": [
    {
     "name": "stdout",
     "output_type": "stream",
     "text": [
      " * Serving Flask app \"__main__\" (lazy loading)\n",
      " * Environment: production\n",
      "   WARNING: Do not use the development server in a production environment.\n",
      "   Use a production WSGI server instead.\n",
      " * Debug mode: on\n"
     ]
    },
    {
     "name": "stderr",
     "output_type": "stream",
     "text": [
      " * Running on http://127.0.0.1:5000/ (Press CTRL+C to quit)\n",
      " * Restarting with stat\n"
     ]
    },
    {
     "ename": "SystemExit",
     "evalue": "1",
     "output_type": "error",
     "traceback": [
      "An exception has occurred, use %tb to see the full traceback.\n",
      "\u001b[0;31mSystemExit\u001b[0m\u001b[0;31m:\u001b[0m 1\n"
     ]
    },
    {
     "name": "stderr",
     "output_type": "stream",
     "text": [
      "/Users/Younes/anaconda3/lib/python3.7/site-packages/IPython/core/interactiveshell.py:3304: UserWarning: To exit: use 'exit', 'quit', or Ctrl-D.\n",
      "  warn(\"To exit: use 'exit', 'quit', or Ctrl-D.\", stacklevel=1)\n"
     ]
    }
   ],
   "source": [
    "#Part 2: Flash\n",
    "\n",
    "from flask import Flask, jsonify, render_template, abort\n",
    "\n",
    "# initiating flask api\n",
    "\n",
    "app = Flask(__name__)\n",
    "\n",
    "@app.route('/')\n",
    "def welcome():\n",
    "    return jsonify({\"Title\": \"Hawaii weather info\",\n",
    "        \"description\": \"API for information about Hawaii stations, precipitation and temperature\",\n",
    "        \"endpoints\":[\"/api/v1.0/precipitation\",\n",
    "        \"/api/v1.0/stations\",\n",
    "        \"/api/v1.0/tobs\",\n",
    "        \"/api/v1.0/<start>\",\n",
    "        \"/api/v1.0/<start>/<end>\"]})\n",
    "\n",
    "\n",
    "@app.route(\"/api/v1.0/precipitation\")\n",
    "\n",
    "#Define precipiation \n",
    "\n",
    "def prcp():\n",
    "    yearBefore = dt.date.today() - dt.timedelta(days=365)\n",
    "\n",
    "    prcp_each_day = session.query(Measurement.date,func.sum(Measurement.prcp)).filter(Measurement.date >= prev_year).group_by(Measurement.date).order_by(Measurement.date).all()\n",
    "\n",
    "    prcp_dict = dict(prcp_each_day)\n",
    "    return jsonify(prcp_dict)\n",
    "\n",
    "@app.route('/api/v1.0/stations')\n",
    "\n",
    "#Define Stations\n",
    "def stations():\n",
    "    \"\"\"return a json list of stations from the dataset.\"\"\"\n",
    "\n",
    "    stationquery = session.query(Station.station).all()\n",
    "\n",
    "    stationlist = list(np.ravel(stationquery))\n",
    "    \n",
    "    return jsonify(stationlist)\n",
    "\n",
    "\n",
    "@app.route('/api/v1.0/tobs')\n",
    "\n",
    "#Definy tobs\n",
    "def tobs():\n",
    "    \"\"\"Return a json list of Temperature Observations (tobs) for the previous year\"\"\"\n",
    "    prev_year = dt.date.today() - dt.timedelta(days=365)\n",
    "\n",
    "    tobsquery = session.query(Measurement.tobs).filter(Measurement.date >= prev_year).all()\n",
    "\n",
    "    tobslist = list(np.ravel(tobsquery))\n",
    "\n",
    "    return jsonify(tobslist)\n",
    "\n",
    "#executing the error handler page using 404 abort\n",
    "@app.errorhandler(404)\n",
    "def page_not_found(e):\n",
    "    \n",
    "    return (\"<h2> 404: Page Not Found </h2>\"\n",
    "            \"Please enter a date in database range: <b>2010-01-01</b> to <b>2017-08-23</b>\"),404\n",
    "\n",
    "\n",
    "\n",
    "@app.route('/api/v1.0/<start>', methods=[\"GET\"])\n",
    "\n",
    "def tobsinfo_start(start):\n",
    "\n",
    "    try:\n",
    "        if start:\n",
    "            \n",
    "            sel = [func.min(Measurement.tobs), func.avg(Measurement.tobs), func.max(Measurement.tobs)]\n",
    "\n",
    "            calcs = session.query(*sel).filter(func.strftime('%Y-%m-%d',Measurement.date) >= start).one()\n",
    "\n",
    "\n",
    "            return (\n",
    "                    f\"<h2> Temperature(F) informtion from {start} </h2>\"\n",
    "                    f\"Minimum temp: {calcs[0]}<br>\"\n",
    "                    f\"Average temp: {round(calcs[1],2)}<br>\"\n",
    "                    f\"Maximum temp: {round(calcs[2],2)}<br>\"\n",
    "                    )\n",
    "    except:\n",
    "            abort(404)\n",
    "\n",
    "@app.route('/api/v1.0/<start>/<end>')\n",
    "\n",
    "def tobsinfo_start_end(start,end):\n",
    "    try:\n",
    "        if start and end: \n",
    "            \n",
    "            sel = [func.min(Measurement.tobs), func.avg(Measurement.tobs), func.max(Measurement.tobs)]\n",
    "\n",
    "            calcs = session.query(*sel).filter(func.strftime('%Y-%m-%d',Measurement.date).between( start,end)).one()\n",
    "\n",
    "\n",
    "            return (\n",
    "                    f\"<h2> Temperature informtion from {start} to {end}</h2>\"\n",
    "                    f\"Minimum temperature: {calcs[0]}<br>\"\n",
    "                    f\"Average temperature: {round(calcs[1],2)}<br>\"\n",
    "                    f\"Maximum temperature: {round(calcs[2],2)}<br>\"\n",
    "                    )\n",
    "\n",
    "    except:\n",
    "            abort(404)\n",
    "\n",
    "\n",
    "if __name__ == '__main__':\n",
    "    app.run(debug=True)\n"
   ]
  },
  {
   "cell_type": "code",
   "execution_count": null,
   "metadata": {},
   "outputs": [],
   "source": []
  }
 ],
 "metadata": {
  "celltoolbar": "Raw Cell Format",
  "kernelspec": {
   "display_name": "Python 3",
   "language": "python",
   "name": "python3"
  },
  "language_info": {
   "codemirror_mode": {
    "name": "ipython",
    "version": 3
   },
   "file_extension": ".py",
   "mimetype": "text/x-python",
   "name": "python",
   "nbconvert_exporter": "python",
   "pygments_lexer": "ipython3",
   "version": "3.7.3"
  }
 },
 "nbformat": 4,
 "nbformat_minor": 2
}
